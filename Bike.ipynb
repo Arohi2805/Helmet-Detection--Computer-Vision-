{
 "cells": [
  {
   "cell_type": "code",
   "execution_count": 1,
   "metadata": {},
   "outputs": [
    {
     "name": "stderr",
     "output_type": "stream",
     "text": [
      "Exception in Tkinter callback\n",
      "Traceback (most recent call last):\n",
      "  File \"/opt/anaconda3/lib/python3.8/tkinter/__init__.py\", line 1883, in __call__\n",
      "    return self.func(*args)\n",
      "  File \"/opt/anaconda3/lib/python3.8/tkinter/__init__.py\", line 804, in callit\n",
      "    func(*args)\n",
      "  File \"<ipython-input-1-8684facdfbdc>\", line 30, in show_frame\n",
      "    gray = cv2.cvtColor(frame, cv2.COLOR_BGR2GRAY)\n",
      "cv2.error: OpenCV(4.5.3) /private/var/folders/24/8k48jl6d249_n_qfxwsl6xvm0000gn/T/pip-req-build-xxsyexfp/opencv/modules/imgproc/src/color.cpp:182: error: (-215:Assertion failed) !_src.empty() in function 'cvtColor'\n",
      "\n"
     ]
    }
   ],
   "source": [
    "import cv2\n",
    "import tkinter as tk\n",
    "from PIL import ImageTk, Image\n",
    "\n",
    "\n",
    "cascade_src = 'bike.xml'\n",
    "\n",
    "video_src = 'movie2.mp4'\n",
    "\n",
    "cap = cv2.VideoCapture(video_src)\n",
    "fgbg = cv2.createBackgroundSubtractorMOG2()\n",
    "car_cascade = cv2.CascadeClassifier(cascade_src)\n",
    "\n",
    "#Set up GUI\n",
    "window = tk.Tk()  #Makes main window\n",
    "window.wm_title(\"Digital Microscope\")\n",
    "window.config(background=\"#FFFFFF\")\n",
    "\n",
    "#Graphics window\n",
    "imageFrame = tk.Frame(window, width=600, height=500)\n",
    "imageFrame.grid(row=0, column=0, padx=10, pady=2)\n",
    "\n",
    "#Capture video frames\n",
    "lmain = tk.Label(imageFrame)\n",
    "lmain.grid(row=0, column=0)\n",
    "\n",
    "\n",
    "def show_frame():\n",
    "    _, frame = cap.read()\n",
    "    gray = cv2.cvtColor(frame, cv2.COLOR_BGR2GRAY)\n",
    "\n",
    "    cars = car_cascade.detectMultiScale(gray, 1.59, 1)\n",
    "\n",
    "    for (x, y, w, h) in cars:\n",
    "        cv2.rectangle(frame, (x, y), (x + w, y + h), (0, 255, 215), 2)\n",
    "\n",
    "    color = cv2.cvtColor(frame, cv2.COLOR_BGR2RGBA)\n",
    "    img = Image.fromarray(color)\n",
    "    imgtk = ImageTk.PhotoImage(image=img)\n",
    "    lmain.imgtk = imgtk\n",
    "    lmain.configure(image=imgtk)\n",
    "    lmain.after(10, show_frame)\n",
    "\n",
    "\n",
    "#Slider window (slider controls stage position)\n",
    "sliderFrame = tk.Frame(window, width=600, height=100)\n",
    "sliderFrame.grid(row = 600, column=0, padx=10, pady=2)\n",
    "\n",
    "\n",
    "show_frame()  #Display 2\n",
    "window.mainloop()  #Starts GUI\n",
    "\n",
    "cv2.destroyAllWindows()\n"
   ]
  },
  {
   "cell_type": "code",
   "execution_count": 2,
   "metadata": {},
   "outputs": [
    {
     "name": "stdout",
     "output_type": "stream",
     "text": [
      "Collecting opencv-python\n",
      "  Using cached opencv_python-4.5.3.56-cp38-cp38-macosx_10_15_x86_64.whl (42.6 MB)\n",
      "Requirement already satisfied: numpy>=1.17.3 in /opt/anaconda3/lib/python3.8/site-packages (from opencv-python) (1.19.2)\n",
      "Installing collected packages: opencv-python\n",
      "Successfully installed opencv-python-4.5.3.56\n",
      "Note: you may need to restart the kernel to use updated packages.\n"
     ]
    }
   ],
   "source": [
    "pip install opencv-python"
   ]
  },
  {
   "cell_type": "code",
   "execution_count": null,
   "metadata": {},
   "outputs": [],
   "source": []
  }
 ],
 "metadata": {
  "kernelspec": {
   "display_name": "Python 3",
   "language": "python",
   "name": "python3"
  },
  "language_info": {
   "codemirror_mode": {
    "name": "ipython",
    "version": 3
   },
   "file_extension": ".py",
   "mimetype": "text/x-python",
   "name": "python",
   "nbconvert_exporter": "python",
   "pygments_lexer": "ipython3",
   "version": "3.8.5"
  }
 },
 "nbformat": 4,
 "nbformat_minor": 4
}
